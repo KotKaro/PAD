{
 "cells": [
  {
   "cell_type": "markdown",
   "metadata": {
    "id": "6s5atoa1swg0"
   },
   "source": [
    "Zadanie 1 (5 pkt)\n",
    "\n",
    "\n",
    "Wgraj zawartość pliku orders.csv do ramki danych.\n",
    "Przyjrzyj się danym, wykorzystując poznane metody (describe, info, head) zanalizuj dane.\n",
    "\n",
    "Następnie:\n",
    "\n",
    "\n",
    "\n",
    "1. Zamień order_date na format daty. Upewnij się, że w rezultacie data będzie w formacie: rok-miesiąc-dzień;\n",
    "2. Sprawdź ile i jakie unikalne wartości znajdują się w kolumnie T-shirt category;\n",
    "3. Wyczyść kolumnę tshirt_category normalizując nazwy produktów. Upewnij się, że dla każdej kategorii funkcjonuje jedna nazwa, np. zamiast white i wh jest tylko jedna wersja white. Skorzystaj z klasy string i metody apply;\n",
    "4. Rozdziel kolumnę tshirt category na 3 kolumny: tshirt_type, która będzie mówiła o tym czy jest to koszulka, bluza czy coś innego, tshirt_size, która będzie informowała o rozmiarze koszulki, i tshirt_colour, która będzie informowała o kolorze. Skorzystaj z metody apply.\n",
    "5. Znajdź zamówienia złożone między 31 grudnia 2014 a 2 sierpnia 2016.\n"
   ]
  },
  {
   "cell_type": "code",
   "execution_count": 2,
   "metadata": {
    "id": "Ktake9Iqsl1O"
   },
   "outputs": [
    {
     "name": "stdout",
     "output_type": "stream",
     "text": [
      "       pages_visited  tshirt_price  tshirt_quantity\n",
      "count   26552.000000  26552.000000     26552.000000\n",
      "mean       10.838016     20.223768         2.693394\n",
      "std         3.589299      2.220651         3.456182\n",
      "min         2.000000     17.500000         1.000000\n",
      "25%         8.000000     18.000000         1.000000\n",
      "50%        11.000000     20.000000         2.000000\n",
      "75%        13.000000     23.000000         3.000000\n",
      "max        28.000000     24.000000        29.000000\n",
      "<class 'pandas.core.frame.DataFrame'>\n",
      "RangeIndex: 26552 entries, 0 to 26551\n",
      "Data columns (total 7 columns):\n",
      " #   Column           Non-Null Count  Dtype  \n",
      "---  ------           --------------  -----  \n",
      " 0   order_date       26552 non-null  object \n",
      " 1   pages_visited    26552 non-null  int64  \n",
      " 2   order_id         26552 non-null  object \n",
      " 3   customer_id      26552 non-null  object \n",
      " 4   tshirt_category  26552 non-null  object \n",
      " 5   tshirt_price     26552 non-null  float64\n",
      " 6   tshirt_quantity  26552 non-null  int64  \n",
      "dtypes: float64(1), int64(2), object(4)\n",
      "memory usage: 1.4+ MB\n",
      "None\n",
      "   order_date  pages_visited         order_id customer_id  tshirt_category  \\\n",
      "0  2016/09/04              9  HTS-038040-0002      038040  White T-Shirt M   \n",
      "1  2014/11/14             11  HTS-801797-0001      801797  White T-Shirt M   \n",
      "2  2017/02/26             10  HTS-vft1eu-0003      vft1eu  White T-Shirt F   \n",
      "3  2013/12/01             10  HTS-914324-0001      914324      Wh Tshirt F   \n",
      "4  2015/10/22             12  HTS-88ua9r-0001      88ua9r  White T-Shirt M   \n",
      "5  2016/01/15              9  HTS-061311-0003      061311  Black T-Shirt F   \n",
      "6  2014/11/25              6  HTS-479441-0001      479441           Hoodie   \n",
      "7  2014/11/01             10  HTS-352809-0001      352809  Black T-Shirt M   \n",
      "8  2013/11/03             10  HTS-494332-0001      494332      Wh Tshirt F   \n",
      "9  2013/10/02             14  HTS-463794-0001      463794     Tennis Shirt   \n",
      "\n",
      "   tshirt_price  tshirt_quantity  \n",
      "0          20.0                1  \n",
      "1          20.0                1  \n",
      "2          18.0                3  \n",
      "3          18.0                1  \n",
      "4          20.0                1  \n",
      "5          17.5                4  \n",
      "6          23.0               19  \n",
      "7          19.0                2  \n",
      "8          18.0                2  \n",
      "9          24.0                1  \n"
     ]
    }
   ],
   "source": [
    "import pandas as pd\n",
    "import numpy as np\n",
    "\n",
    "df = pd.read_csv('./orders.csv', sep=',')\n",
    "print(df.describe())\n",
    "print(df.info())\n",
    "print(df.head(10))"
   ]
  },
  {
   "cell_type": "code",
   "execution_count": 3,
   "metadata": {
    "scrolled": true
   },
   "outputs": [],
   "source": [
    "# 1\n",
    "df['order_date']= pd.to_datetime(df['order_date'])\n",
    "df['order_date'] = pd.to_datetime(df['order_date'].dt.strftime('%Y/%m/%d')).dt.date"
   ]
  },
  {
   "cell_type": "code",
   "execution_count": 6,
   "metadata": {
    "scrolled": true
   },
   "outputs": [
    {
     "name": "stdout",
     "output_type": "stream",
     "text": [
      "Unique:  ['White T-Shirt M' 'White T-Shirt F' 'Wh Tshirt F' 'Black T-Shirt F'\n",
      " 'Hoodie' 'Black T-Shirt M' 'Tennis Shirt' 'Wh Tshirt M' 'Bl Tshirt F'\n",
      " 'Bl Tshirt M']\n",
      "Unique count:  10\n"
     ]
    }
   ],
   "source": [
    "# 2\n",
    "print('Unique: ', df.tshirt_category.unique())\n",
    "print('Unique count: ', df.tshirt_category.nunique())"
   ]
  },
  {
   "cell_type": "code",
   "execution_count": 4,
   "metadata": {},
   "outputs": [
    {
     "name": "stderr",
     "output_type": "stream",
     "text": [
      "/var/folders/19/cx6dklk93z1fbt8yhwynlmd80000gn/T/ipykernel_4711/1070589712.py:8: SettingWithCopyWarning: \n",
      "A value is trying to be set on a copy of a slice from a DataFrame\n",
      "\n",
      "See the caveats in the documentation: https://pandas.pydata.org/pandas-docs/stable/user_guide/indexing.html#returning-a-view-versus-a-copy\n",
      "  df.tshirt_category[:] = df.tshirt_category.apply(lambda current: replacements_map[current] if current in replacements_map else current)\n"
     ]
    }
   ],
   "source": [
    "# 3\n",
    "replacements_map = {\n",
    "    'Wh Tshirt F': 'White T-Shirt F',\n",
    "    'Wh Tshirt M': 'White T-Shirt M',\n",
    "    'Bl Tshirt F': 'Black T-Shirt F',\n",
    "    'Bl Tshirt M': 'Black T-Shirt M'\n",
    "}\n",
    "df.tshirt_category[:] = df.tshirt_category.apply(lambda current: replacements_map[current] if current in replacements_map else current)"
   ]
  },
  {
   "cell_type": "code",
   "execution_count": 5,
   "metadata": {},
   "outputs": [
    {
     "name": "stderr",
     "output_type": "stream",
     "text": [
      "/var/folders/19/cx6dklk93z1fbt8yhwynlmd80000gn/T/ipykernel_4711/1074686150.py:28: UserWarning: Pandas doesn't allow columns to be created via a new attribute name - see https://pandas.pydata.org/pandas-docs/stable/indexing.html#attribute-access\n",
      "  df.tshirt_type = df.tshirt_category.apply(lambda current: tshirt_type_selector(current=current))\n",
      "/var/folders/19/cx6dklk93z1fbt8yhwynlmd80000gn/T/ipykernel_4711/1074686150.py:29: UserWarning: Pandas doesn't allow columns to be created via a new attribute name - see https://pandas.pydata.org/pandas-docs/stable/indexing.html#attribute-access\n",
      "  df.tshirt_size = df.tshirt_category.apply(lambda current: tshirt_size_selector(current=current))\n",
      "/var/folders/19/cx6dklk93z1fbt8yhwynlmd80000gn/T/ipykernel_4711/1074686150.py:30: UserWarning: Pandas doesn't allow columns to be created via a new attribute name - see https://pandas.pydata.org/pandas-docs/stable/indexing.html#attribute-access\n",
      "  df.tshirt_colour = df.tshirt_category.apply(lambda current: tshirt_colour_selector(current=current))\n"
     ]
    }
   ],
   "source": [
    "# 4\n",
    "def tshirt_type_selector(current):\n",
    "    if 'T-Shirt' in current:\n",
    "        return 'T-Shirt'\n",
    "    elif 'Hoodie' in current:\n",
    "        return 'Hoodie'\n",
    "    elif 'Shirt' in current:\n",
    "        return 'Shirt'\n",
    "    else:\n",
    "        raise ValueError('Unknown value')\n",
    "\n",
    "def tshirt_size_selector(current):\n",
    "    known_sizes = ['M','F']\n",
    "    size = current.split()[-1]\n",
    "    if size in known_sizes:\n",
    "        return size\n",
    "    else:\n",
    "        return 'N/A'\n",
    "\n",
    "def tshirt_colour_selector(current):\n",
    "    known_colours = ['White','Black']\n",
    "    colour = current.split()[0]\n",
    "    if colour in known_colours:\n",
    "        return colour\n",
    "    else:\n",
    "        return 'N/A'\n",
    "    \n",
    "df.tshirt_type = df.tshirt_category.apply(lambda current: tshirt_type_selector(current=current))\n",
    "df.tshirt_size = df.tshirt_category.apply(lambda current: tshirt_size_selector(current=current))\n",
    "df.tshirt_colour = df.tshirt_category.apply(lambda current: tshirt_colour_selector(current=current))"
   ]
  },
  {
   "cell_type": "code",
   "execution_count": 6,
   "metadata": {},
   "outputs": [
    {
     "name": "stdout",
     "output_type": "stream",
     "text": [
      "2015-01-01\n",
      "2016-08-01\n"
     ]
    }
   ],
   "source": [
    "#5\n",
    "import datetime\n",
    "start = datetime.date(year=2014, month=12, day=31)\n",
    "stop = datetime.date(year=2016, month=8, day=2)\n",
    "result = df[(df.order_date > start) & (df.order_date < stop)]\n",
    "print(result.order_date.min())\n",
    "print(result.order_date.max())"
   ]
  },
  {
   "cell_type": "markdown",
   "metadata": {},
   "source": [
    "### "
   ]
  },
  {
   "cell_type": "markdown",
   "metadata": {
    "id": "g0QB8rtHtGhT"
   },
   "source": [
    "Zadanie 2 (4 pkt)\n",
    "\n",
    "\n",
    "Wgraj plik customers.csv do ramki danych. \n",
    "\n",
    "Następnie:\n",
    "1. Wypisz kolumny;\n",
    "2. Porównaj rozmiar ramki z rozmiarem ramki w zadaniu 1;\n",
    "3. Zmień nazwę kolumny customerID  na customer_id upewniając się, że dane zmiana zostanie zapisana w pamięci dzięki jednemu z argumentów metody do zmiany nazwy kolumny;\n",
    "4. Połącz ramkę orders z ramką customers po kolumnie customer_id. Z której metody skorzystasz? Zostaw odpowiedź w komentarzu do zadania w kodzie (np. blok komentarzem ‘’’ ‘’’).\n"
   ]
  },
  {
   "cell_type": "code",
   "execution_count": 7,
   "metadata": {
    "id": "_rfPFhLGtRm-"
   },
   "outputs": [],
   "source": [
    "df1 = pd.read_csv('./customers.csv', sep=',')"
   ]
  },
  {
   "cell_type": "code",
   "execution_count": 8,
   "metadata": {
    "scrolled": true
   },
   "outputs": [
    {
     "name": "stdout",
     "output_type": "stream",
     "text": [
      "Index(['customerID', 'gender', 'birthdate', 'user_agent', 'ip_address',\n",
      "       'campaign'],\n",
      "      dtype='object')\n"
     ]
    }
   ],
   "source": [
    "#1\n",
    "print(df1.columns)"
   ]
  },
  {
   "cell_type": "code",
   "execution_count": 9,
   "metadata": {},
   "outputs": [
    {
     "name": "stdout",
     "output_type": "stream",
     "text": [
      "Zad 1 - liczba wierszy 26552\n",
      "Zad 1 - liczba kolumn 7\n",
      "Zad 2 - liczba wierszy 18766\n",
      "Zad 2 - liczba kolumn 6\n"
     ]
    }
   ],
   "source": [
    "#2\n",
    "print('Zad 1 - liczba wierszy', len(df.index))\n",
    "print('Zad 1 - liczba kolumn', len(df.columns))\n",
    "print('Zad 2 - liczba wierszy', len(df1.index))\n",
    "print('Zad 2 - liczba kolumn', len(df1.columns))"
   ]
  },
  {
   "cell_type": "code",
   "execution_count": 10,
   "metadata": {},
   "outputs": [
    {
     "name": "stdout",
     "output_type": "stream",
     "text": [
      "Index(['customer_id', 'gender', 'birthdate', 'user_agent', 'ip_address',\n",
      "       'campaign'],\n",
      "      dtype='object')\n"
     ]
    }
   ],
   "source": [
    "#3\n",
    "df1.rename(columns = {'customerID':'customer_id'}, inplace = True)\n",
    "print(df1.columns)"
   ]
  },
  {
   "cell_type": "code",
   "execution_count": 11,
   "metadata": {},
   "outputs": [
    {
     "name": "stdout",
     "output_type": "stream",
     "text": [
      "Index(['order_date', 'pages_visited', 'order_id', 'customer_id',\n",
      "       'tshirt_category', 'tshirt_price', 'tshirt_quantity'],\n",
      "      dtype='object')\n",
      "Index(['customer_id', 'gender', 'birthdate', 'user_agent', 'ip_address',\n",
      "       'campaign'],\n",
      "      dtype='object')\n"
     ]
    },
    {
     "data": {
      "text/plain": "'Uzylem merge poniewaz pozwala stowrzyc nowy dataframe na podstawie innych uzywajac specyficznej kolumny do polaczenia danych'"
     },
     "execution_count": 11,
     "metadata": {},
     "output_type": "execute_result"
    }
   ],
   "source": [
    "#4\n",
    "print(df.columns)\n",
    "print(df1.columns)\n",
    "df_merged = df.merge(df1, on='customer_id')\n",
    "df_merged\n",
    "\n",
    "'''Uzylem merge poniewaz pozwala stowrzyc nowy dataframe na podstawie innych uzywajac specyficznej kolumny do polaczenia danych'''"
   ]
  },
  {
   "cell_type": "markdown",
   "metadata": {
    "id": "bCKqMqJQtR8s"
   },
   "source": [
    "Zadanie 3 (1 pkt)\n",
    "\n",
    "Nową ramkę (połączenie orders i customers) zapisz do pliku csv, ale zapisz bez kolumny z indeksem.\n"
   ]
  },
  {
   "cell_type": "code",
   "execution_count": 12,
   "metadata": {
    "id": "J2gA9RVStSTa"
   },
   "outputs": [],
   "source": [
    "df_merged.to_csv('test.csv', index=False)"
   ]
  },
  {
   "cell_type": "code",
   "execution_count": null,
   "outputs": [],
   "source": [],
   "metadata": {
    "collapsed": false,
    "pycharm": {
     "name": "#%%\n"
    }
   }
  }
 ],
 "metadata": {
  "colab": {
   "authorship_tag": "ABX9TyM/IEyKrBImMU7q537NwTDt",
   "provenance": []
  },
  "kernelspec": {
   "display_name": "Python 3 (ipykernel)",
   "language": "python",
   "name": "python3"
  },
  "language_info": {
   "codemirror_mode": {
    "name": "ipython",
    "version": 3
   },
   "file_extension": ".py",
   "mimetype": "text/x-python",
   "name": "python",
   "nbconvert_exporter": "python",
   "pygments_lexer": "ipython3",
   "version": "3.9.12"
  },
  "vscode": {
   "interpreter": {
    "hash": "aee8b7b246df8f9039afb4144a1f6fd8d2ca17a180786b69acc140d282b71a49"
   }
  }
 },
 "nbformat": 4,
 "nbformat_minor": 1
}